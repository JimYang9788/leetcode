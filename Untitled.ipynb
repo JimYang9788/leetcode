{
 "cells": [
  {
   "cell_type": "code",
   "execution_count": 59,
   "metadata": {},
   "outputs": [],
   "source": [
    "def process (text, width):\n",
    "    lines = []\n",
    "    current = \"\"\n",
    "    for c in text:\n",
    "        current += c\n",
    "        if c == '\\n':\n",
    "            lines.append (current)\n",
    "            current = \"\"\n",
    "        else:\n",
    "            \n",
    "            \n",
    "\n",
    "            if len(current) > width:\n",
    "                lines.append (current)\n",
    "                current = c\n",
    "    if len(current) > 0:\n",
    "        lines.append (current)\n",
    "    return lines "
   ]
  },
  {
   "cell_type": "code",
   "execution_count": 60,
   "metadata": {},
   "outputs": [
    {
     "data": {
      "text/plain": [
       "['yoyoy', 'yo\\n', 'suuup', 'ps\\n', 'a']"
      ]
     },
     "execution_count": 60,
     "metadata": {},
     "output_type": "execute_result"
    }
   ],
   "source": [
    "process (\"yoyoyo\\nsuuups\\na\",4)"
   ]
  },
  {
   "cell_type": "code",
   "execution_count": null,
   "metadata": {},
   "outputs": [],
   "source": []
  },
  {
   "cell_type": "code",
   "execution_count": 80,
   "metadata": {},
   "outputs": [],
   "source": [
    "# Enter your code here. Read input from STDIN. Print output to STDOUT\n",
    "class Tree:\n",
    "    def __init__(self, val=None):\n",
    "        self.val = val\n",
    "        self.left = None\n",
    "        self.right = None \n",
    "        self.lsize = 0\n",
    "        self.rszie = 0 \n",
    "        self.totalval = val if val else 0\n",
    "        \n",
    "        \n",
    "    def insert(self,n):\n",
    "        assert(isinstance(n, int))\n",
    "        \n",
    "        if (self.val != None):\n",
    "            if (self.val > n):\n",
    "                if self.left:\n",
    "                    self.left = self.left.insert(n)\n",
    "                else:\n",
    "                    self.right = Tree(n)\n",
    "                self.totalval += n \n",
    "                self.lsize += 1 \n",
    "            elif (self.val < n):\n",
    "                if (self.right):\n",
    "                    self.right = self.right.insert(n)\n",
    "                else:\n",
    "                    self.right = Tree(n)\n",
    "\n",
    "                self.totalval += n \n",
    "                self.rszie += 1 \n",
    "            else:\n",
    "                # Already present, assuming not doing anything\n",
    "                print (\"key already exists in the tree\")\n",
    "        else:\n",
    "            self.val = n\n",
    "            self.left = None\n",
    "            self.right = None \n",
    "            self.lsize = 0\n",
    "            self.rszie = 0 \n",
    "            self.totalval = n if n else 0\n",
    "            \n",
    "    def getLeftTree(self):\n",
    "        return self.left\n",
    "\n",
    "    def getRightTree(self):\n",
    "        return self.right \n",
    "    \n",
    "    def getMean (self):\n",
    "        if not self.val:\n",
    "            return 0 \n",
    "        else:\n",
    "            return self.totalval / (self.rszie + self.lsize + 1)\n",
    "        \n",
    "    def printTree (self):\n",
    "        if not self.val:\n",
    "            return \n",
    "        else:\n",
    "            print (self.val)\n",
    "            if (self.left):\n",
    "                self.left.printTree()\n",
    "            if (self.right):\n",
    "                self.right.printTree()\n",
    "\n",
    "\n",
    "            "
   ]
  },
  {
   "cell_type": "code",
   "execution_count": 81,
   "metadata": {},
   "outputs": [
    {
     "data": {
      "text/plain": [
       "2.0"
      ]
     },
     "execution_count": 81,
     "metadata": {},
     "output_type": "execute_result"
    }
   ],
   "source": [
    "tree = Tree()\n",
    "tree.printTree()\n",
    "tree.insert(2)\n",
    "tree.getMean()\n"
   ]
  },
  {
   "cell_type": "code",
   "execution_count": null,
   "metadata": {},
   "outputs": [],
   "source": []
  },
  {
   "cell_type": "code",
   "execution_count": null,
   "metadata": {},
   "outputs": [],
   "source": []
  }
 ],
 "metadata": {
  "kernelspec": {
   "display_name": "Python 3",
   "language": "python",
   "name": "python3"
  },
  "language_info": {
   "codemirror_mode": {
    "name": "ipython",
    "version": 3
   },
   "file_extension": ".py",
   "mimetype": "text/x-python",
   "name": "python",
   "nbconvert_exporter": "python",
   "pygments_lexer": "ipython3",
   "version": "3.7.4"
  }
 },
 "nbformat": 4,
 "nbformat_minor": 2
}
